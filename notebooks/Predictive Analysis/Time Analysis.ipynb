{
 "cells": [
  {
   "cell_type": "code",
   "execution_count": null,
   "id": "ba77808d",
   "metadata": {},
   "outputs": [],
   "source": [
    "import sys\n",
    "from pathlib import Path\n",
    "\n",
    "sys.path.append(str(Path(\"..\").resolve()))\n",
    "sys.path.append(str(Path(\"../..\").resolve()))\n",
    "\n",
    "from src.data_ingestion import *\n",
    "from src.data_preprocessing import *\n",
    "from src.descriptive_analytics import *\n",
    "from src.descriptive_analysis.time import *\n",
    "\n",
    "from pyspark.sql import DataFrame\n",
    "from pyspark.sql.functions import col\n",
    "from pyspark.sql.types import NumericType, StringType\n",
    "from pyspark.sql import functions as F\n",
    "\n",
    "import seaborn as sns\n",
    "\n",
    "import numpy as np\n",
    "\n",
    "from itertools import combinations\n",
    "\n",
    "from scipy import stats\n",
    "\n",
    "import matplotlib.pyplot as plt\n",
    "\n",
    "import pandas as pd\n",
    "\n"
   ]
  },
  {
   "cell_type": "code",
   "execution_count": null,
   "id": "256eacb6",
   "metadata": {},
   "outputs": [],
   "source": [
    "spark = init_spark()\n",
    "df = load_data(spark, \"../../data/US_Accidents_March23.csv\")"
   ]
  },
  {
   "cell_type": "markdown",
   "id": "fbc4974f",
   "metadata": {},
   "source": [
    "## Decriptive Analysis"
   ]
  },
  {
   "cell_type": "markdown",
   "id": "bfa69a6c",
   "metadata": {},
   "source": [
    "### Time Analysis "
   ]
  },
  {
   "cell_type": "code",
   "execution_count": null,
   "id": "8fdc0107",
   "metadata": {},
   "outputs": [],
   "source": [
    "sample_fraction=0.05\n",
    "\n",
    "sample_df = df.select(\"Hour\").sample(fraction=sample_fraction).toPandas()\n",
    "\n",
    "plt.figure(figsize=(12, 6))\n",
    "sns.histplot(sample_df['Hour'], bins=24, kde=True)\n",
    "plt.title('Accidents by Hour of Day (All States)')\n",
    "plt.xlabel('Hour of Day (0-23)')\n",
    "plt.ylabel('Number of Accidents')\n",
    "plt.tight_layout()\n",
    "plt.show()"
   ]
  },
  {
   "cell_type": "code",
   "execution_count": null,
   "id": "3f9c780d",
   "metadata": {},
   "outputs": [],
   "source": [
    "sample_df = df.select(\"Day_of_Week\").sample(fraction=sample_fraction).toPandas()\n",
    "\n",
    "plt.figure(figsize=(10, 6))\n",
    "sns.countplot(x='Day_of_Week', data=sample_df)\n",
    "plt.title('Accidents by Day of Week (All States)')\n",
    "plt.xlabel('Day of Week')\n",
    "plt.ylabel('Number of Accidents')\n",
    "plt.xticks(range(7), ['Mon', 'Tue', 'Wed', 'Thu', 'Fri', 'Sat', 'Sun'])\n",
    "plt.tight_layout()\n",
    "plt.show()\n"
   ]
  },
  {
   "cell_type": "code",
   "execution_count": null,
   "id": "46bfe4c8",
   "metadata": {},
   "outputs": [],
   "source": [
    "sample_df = df.select(\"Month\", \"Season\").sample(fraction=sample_fraction).toPandas()\n",
    "\n",
    "# Plot 1: Accidents by Month\n",
    "plt.figure(figsize=(12, 6))\n",
    "sns.countplot(x='Month', data=sample_df)\n",
    "plt.title('Accidents by Month (All States)')\n",
    "plt.xlabel('Month')\n",
    "plt.ylabel('Number of Accidents')\n",
    "plt.xticks(range(12), ['Jan', 'Feb', 'Mar', 'Apr', 'May', 'Jun', 'Jul', 'Aug', 'Sep', 'Oct', 'Nov', 'Dec'])\n",
    "plt.tight_layout()\n",
    "plt.show()\n",
    "\n",
    "\n",
    "# Plot 2: Accidents by Season\n",
    "plt.figure(figsize=(8, 6))\n",
    "sns.countplot(x='Season', data=sample_df, order=['Winter', 'Spring', 'Summer', 'Fall'])\n",
    "plt.title('Accidents by Season (All States)')\n",
    "plt.xlabel('Season')\n",
    "plt.ylabel('Number of Accidents')\n",
    "plt.tight_layout()\n",
    "plt.show()\n"
   ]
  },
  {
   "cell_type": "code",
   "execution_count": null,
   "id": "5d66e654",
   "metadata": {},
   "outputs": [],
   "source": [
    "severity_hour = df.groupBy(\"Hour\", \"Severity\").count().toPandas()\n",
    "\n",
    "plt.figure(figsize=(12, 6))\n",
    "sns.catplot(x=\"Hour\", y=\"count\", hue=\"Severity\", kind=\"bar\", data=severity_hour, height=6, aspect=2)\n",
    "plt.title('Accident Severity by Hour of Day (All States)')\n",
    "plt.xlabel('Hour of Day (0-23)')\n",
    "plt.ylabel('Number of Accidents')\n",
    "plt.tight_layout()\n",
    "plt.show()\n"
   ]
  },
  {
   "cell_type": "code",
   "execution_count": null,
   "id": "8df670b2",
   "metadata": {},
   "outputs": [],
   "source": [
    "heat_df = df.groupBy(\"Day_of_Week\", \"Hour\").count().toPandas()\n",
    "heatmap_data = heat_df.pivot(index='Day_of_Week', columns='Hour', values='count').fillna(0)\n",
    "\n",
    "plt.figure(figsize=(12, 8))\n",
    "sns.heatmap(heatmap_data, cmap='YlOrRd')\n",
    "plt.title('Heatmap of Accidents by Hour and Day of Week (All States)')\n",
    "plt.xlabel('Hour of Day (0-23)')\n",
    "plt.ylabel('Day of Week')\n",
    "plt.yticks(ticks=[0.5+i for i in range(7)], labels=['Mon', 'Tue', 'Wed', 'Thu', 'Fri', 'Sat', 'Sun'], rotation=0)\n",
    "plt.tight_layout()\n",
    "plt.show()"
   ]
  },
  {
   "cell_type": "code",
   "execution_count": null,
   "id": "6e963849",
   "metadata": {},
   "outputs": [],
   "source": [
    "year_df = df.groupBy(\"Year\").count().toPandas()\n",
    "\n",
    "plt.figure(figsize=(12, 6))\n",
    "sns.lineplot(x='Year', y='count', data=year_df)\n",
    "plt.title('Accidents by Year (All States)')\n",
    "plt.xlabel('Year')\n",
    "plt.ylabel('Number of Accidents')\n",
    "plt.xticks(rotation=45)\n",
    "plt.tight_layout()\n",
    "plt.show()"
   ]
  },
  {
   "cell_type": "code",
   "execution_count": null,
   "id": "a5fa532e",
   "metadata": {},
   "outputs": [],
   "source": [
    "sample_fraction=0.1, top_n_states=5\n",
    "\n",
    "# Preprocess temporal features\n",
    "df = df.withColumn(\"Hour\", F.hour(\"Start_Time\")) \\\n",
    "        .withColumn(\n",
    "            \"Severe_Accident\",\n",
    "            F.when(F.col(\"Severity\").isin([3, 4]), 1).otherwise(0)\n",
    "        )\n",
    "\n",
    "# Define twilight columns\n",
    "twilight_cols = ['Sunrise_Sunset', 'Civil_Twilight', 'Nautical_Twilight', 'Astronomical_Twilight']\n",
    "\n",
    "# Drop rows with null values in relevant columns\n",
    "df = df.dropna(subset=twilight_cols + ['Hour', 'State', 'Severity'])\n",
    "\n",
    "# Sample data to reduce memory usage\n",
    "sample_df = df.sample(fraction=sample_fraction).toPandas()\n",
    "\n",
    "# Identify top N states by accident count\n",
    "top_states = sample_df['State'].value_counts().head(top_n_states).index.tolist()\n",
    "\n",
    "# Plot 1: Distribution of accidents by Sunrise_Sunset\n",
    "plt.figure(figsize=(8, 6))\n",
    "sns.countplot(x='Sunrise_Sunset', data=sample_df)\n",
    "plt.title('Accidents by Day/Night (Sunrise_Sunset) - US')\n",
    "plt.xlabel('Day / Night')\n",
    "plt.ylabel('Number of Accidents')\n",
    "plt.tight_layout()\n",
    "plt.show()"
   ]
  },
  {
   "cell_type": "code",
   "execution_count": null,
   "id": "e5d3af0c",
   "metadata": {},
   "outputs": [],
   "source": [
    "# Plot 2: Severity by Twilight Condition\n",
    "sample_df['Twilight_Condition'] = sample_df.apply(\n",
    "    lambda row: 'Twilight' if (\n",
    "        (row['Sunrise_Sunset'] == 'Day' and row['Civil_Twilight'] == 'Night') or\n",
    "        (row['Sunrise_Sunset'] == 'Night' and row['Civil_Twilight'] == 'Day')\n",
    "    ) else row['Sunrise_Sunset'],  # Corrected typo\n",
    "    axis=1\n",
    ")\n",
    "plt.figure(figsize=(10, 6))\n",
    "sns.countplot(x='Twilight_Condition', hue='Severity', data=sample_df, order=['Day', 'Night', 'Twilight'])\n",
    "plt.title('Accident Severity by Twilight Condition - US')\n",
    "plt.xlabel('Condition (Day, Night, Twilight)')\n",
    "plt.ylabel('Number of Accidents')\n",
    "plt.tight_layout()\n",
    "plt.show()"
   ]
  },
  {
   "cell_type": "code",
   "execution_count": null,
   "id": "28171c3b",
   "metadata": {},
   "outputs": [],
   "source": [
    "# Plot 3: Accidents during twilight transitions\n",
    "sample_df['Twilight_Transition'] = (\n",
    "    (sample_df['Sunrise_Sunset'] == 'Day') & (sample_df['Civil_Twilight'] == 'Night')\n",
    ") | (\n",
    "    (sample_df['Sunrise_Sunset'] == 'Night') & (sample_df['Civil_Twilight'] == 'Day')\n",
    ")\n",
    "plt.figure(figsize=(8, 6))\n",
    "sns.countplot(x='Twilight_Transition', data=sample_df)\n",
    "plt.title('Accidents during Twilight Transitions (Sunrise_Sunset vs Civil_Twilight) - US')\n",
    "plt.xlabel('Twilight Transition (True = Transition, False = No Transition)')\n",
    "plt.ylabel('Number of Accidents')\n",
    "plt.tight_layout()\n",
    "plt.show()\n"
   ]
  },
  {
   "cell_type": "code",
   "execution_count": null,
   "id": "5ee673a0",
   "metadata": {},
   "outputs": [],
   "source": [
    "\n",
    "# Plot 4: Accidents by Top States and Twilight Condition\n",
    "state_df = sample_df[sample_df['State'].isin(top_states)]\n",
    "plt.figure(figsize=(12, 6))\n",
    "sns.countplot(x='State', hue='Twilight_Condition', data=state_df, order=top_states)\n",
    "plt.title(f'Accidents by Top {top_n_states} States and Twilight Condition - US')\n",
    "plt.xlabel('State')\n",
    "plt.ylabel('Number of Accidents')\n",
    "plt.tight_layout()\n",
    "plt.show()\n"
   ]
  },
  {
   "cell_type": "code",
   "execution_count": null,
   "id": "6c88c1fa",
   "metadata": {},
   "outputs": [],
   "source": [
    "# Statistical Summary: Accident counts and severity by Twilight Condition\n",
    "twilight_summary = sample_df.groupby('Twilight_Condition').agg({\n",
    "    'Severity': ['count', 'mean'],\n",
    "    'Severe_Accident': 'mean',\n",
    "    'Hour': 'mean'\n",
    "}).reset_index()\n",
    "twilight_summary.columns = ['Twilight_Condition', 'Accident_Count', 'Avg_Severity', \n",
    "                            'Prop_Severe_Accidents', 'Avg_Hour']\n",
    "twilight_summary['Prop_Severe_Accidents'] = twilight_summary['Prop_Severe_Accidents'] * 100  # Convert to percentage\n",
    "\n",
    "print(\"Statistical Summary by Twilight Condition (US):\")\n",
    "print(twilight_summary)\n",
    "\n",
    "# State-Level Summary: Accident counts and severe accidents by top states and Twilight Condition\n",
    "state_summary = sample_df[sample_df['State'].isin(top_states)].groupby(['State', 'Twilight_Condition']).agg({\n",
    "    'Severity': ['count', 'mean'],\n",
    "    'Severe_Accident': 'mean'\n",
    "}).reset_index()\n",
    "state_summary.columns = ['State', 'Twilight_Condition', 'Accident_Count', 'Avg_Severity', 'Prop_Severe_Accidents']\n",
    "state_summary['Prop_Severe_Accidents'] = state_summary['Prop_Severe_Accidents'] * 100  # Convert to percentage\n",
    "\n",
    "print(f\"\\nStatistical Summary by Top {top_n_states} States and Twilight Condition (US):\")\n",
    "print(state_summary)"
   ]
  },
  {
   "cell_type": "markdown",
   "id": "8b9a47f7",
   "metadata": {},
   "source": [
    "### **Time Analysis Insights**\n",
    "\n",
    "1. **Winter and Fall** experience more accidents due to hazardous weather, such as snow, ice, and reduced daylight.\n",
    "2. **Spring and Summer** see fewer accidents, with **June** being the safest month.\n",
    "3. **Rush hours** (7-9 AM and 3-6 PM) have the highest accident frequency due to increased traffic.\n",
    "4. **Late-night hours** (around 2 AM) show the lowest accident frequency.\n",
    "5. **Weekdays** have more accidents than weekends, with **Friday** being the peak day.\n",
    "6. **December, January, and November** are the most accident-prone months, likely influenced by winter and holiday factors.\n",
    "7. Accident counts **steadily grew** from 2016 to 2022, nearly quadrupling in this period, indicating an increase in accident frequency.\n",
    "8. The **sharp drop in 2023 accident counts** is likely due to incomplete data (up to March), not a true decline."
   ]
  },
  {
   "cell_type": "code",
   "execution_count": null,
   "id": "14cf5598",
   "metadata": {},
   "outputs": [],
   "source": []
  }
 ],
 "metadata": {
  "kernelspec": {
   "display_name": "Python 3",
   "language": "python",
   "name": "python3"
  },
  "language_info": {
   "codemirror_mode": {
    "name": "ipython",
    "version": 3
   },
   "file_extension": ".py",
   "mimetype": "text/x-python",
   "name": "python",
   "nbconvert_exporter": "python",
   "pygments_lexer": "ipython3",
   "version": "3.13.2"
  }
 },
 "nbformat": 4,
 "nbformat_minor": 5
}
