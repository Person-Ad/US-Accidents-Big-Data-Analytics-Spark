{
 "cells": [
  {
   "cell_type": "code",
   "execution_count": 1,
   "id": "ba77808d",
   "metadata": {},
   "outputs": [],
   "source": [
    "# Necessary imports\n",
    "import findspark\n",
    "findspark.init() # Find Spark installation\n",
    "\n",
    "from pyspark.sql import functions as F\n",
    "from pyspark.sql.types import IntegerType, DoubleType, StringType, BooleanType, TimestampType, StructType, StructField\n",
    "\n",
    "# For ML tasks (even if demonstrating MapReduce concepts, preprocessing often uses MLlib)\n",
    "from pyspark.ml.feature import StringIndexer, VectorAssembler, StandardScaler, Bucketizer\n",
    "from pyspark.ml import Pipeline\n",
    "from pyspark.ml.linalg import Vectors, VectorUDT, DenseVector\n",
    "from pyspark.mllib.linalg.distributed import IndexedRow, IndexedRowMatrix # For potential matrix operations\n",
    "\n",
    "import math\n",
    "import heapq\n",
    "from collections import Counter, defaultdict\n",
    "import matplotlib.pyplot as plt\n",
    "import seaborn as sns\n",
    "import pandas as pd \n",
    "\n",
    "import sys\n",
    "from pathlib import Path\n",
    "\n",
    "sys.path.append(str(Path(\"../..\").resolve()))\n",
    "\n",
    "from src.data_ingestion import *\n",
    "from src.data_preprocessing import *\n",
    "from src.descriptive_analytics import *\n",
    "from src.feature_engineering import *\n",
    "\n",
    "from pyspark.sql import DataFrame\n",
    "from pyspark.sql.functions import col\n",
    "from pyspark.sql import functions as F\n",
    "\n",
    "import seaborn as sns\n",
    "\n",
    "import numpy as np\n",
    "\n",
    "from itertools import combinations\n",
    "\n",
    "from scipy import stats\n",
    "\n",
    "import matplotlib.pyplot as plt\n",
    "\n",
    "import pandas as pd\n",
    "from pyspark.sql.window import Window\n",
    "\n",
    "from pyspark.ml.feature import StringIndexer, OneHotEncoder, VectorAssembler\n",
    "from pyspark.ml import Pipeline\n",
    "from pyspark.ml.classification import RandomForestClassifier\n",
    "from pyspark.ml.linalg import Vectors\n",
    "\n",
    "\n"
   ]
  },
  {
   "cell_type": "code",
   "execution_count": 2,
   "id": "256eacb6",
   "metadata": {},
   "outputs": [],
   "source": [
    "spark = init_spark()\n",
    "df = load_data(spark, \"../../data/US_Accidents_March23.csv\")\n"
   ]
  },
  {
   "cell_type": "code",
   "execution_count": 3,
   "id": "d81637b7",
   "metadata": {},
   "outputs": [],
   "source": [
    "df = preprocess_data(df)"
   ]
  },
  {
   "cell_type": "code",
   "execution_count": 4,
   "id": "969fabf1",
   "metadata": {},
   "outputs": [],
   "source": [
    "df = preprocess_features(df)"
   ]
  },
  {
   "cell_type": "code",
   "execution_count": 5,
   "id": "0e929459",
   "metadata": {},
   "outputs": [
    {
     "name": "stdout",
     "output_type": "stream",
     "text": [
      "root\n",
      " |-- Severity: integer (nullable = true)\n",
      " |-- Start_Time: timestamp (nullable = true)\n",
      " |-- End_Time: timestamp (nullable = true)\n",
      " |-- Start_Lat: double (nullable = false)\n",
      " |-- Start_Lng: double (nullable = false)\n",
      " |-- Distance: double (nullable = false)\n",
      " |-- State: string (nullable = false)\n",
      " |-- Timezone: string (nullable = false)\n",
      " |-- Temperature: double (nullable = true)\n",
      " |-- Humidity: double (nullable = false)\n",
      " |-- Pressure: double (nullable = false)\n",
      " |-- Visibility: double (nullable = false)\n",
      " |-- Wind_Speed: double (nullable = false)\n",
      " |-- Weather_Condition: string (nullable = false)\n",
      " |-- Amenity: boolean (nullable = true)\n",
      " |-- Bump: boolean (nullable = true)\n",
      " |-- Crossing: boolean (nullable = true)\n",
      " |-- Give_Way: boolean (nullable = true)\n",
      " |-- Junction: boolean (nullable = true)\n",
      " |-- No_Exit: boolean (nullable = true)\n",
      " |-- Railway: boolean (nullable = true)\n",
      " |-- Roundabout: boolean (nullable = true)\n",
      " |-- Station: boolean (nullable = true)\n",
      " |-- Stop: boolean (nullable = true)\n",
      " |-- Traffic_Calming: boolean (nullable = true)\n",
      " |-- Traffic_Signal: boolean (nullable = true)\n",
      " |-- Sunrise_Sunset: string (nullable = false)\n",
      " |-- Is_Complex_Road: integer (nullable = false)\n",
      " |-- Hour: integer (nullable = true)\n",
      " |-- Day_of_Week: integer (nullable = true)\n",
      " |-- Month: integer (nullable = true)\n",
      " |-- Year: integer (nullable = true)\n",
      " |-- Season: string (nullable = false)\n",
      " |-- DayOfWeek: integer (nullable = true)\n",
      " |-- Duration: double (nullable = true)\n",
      " |-- Is_Weekend: integer (nullable = false)\n",
      " |-- Is_Severe: integer (nullable = false)\n",
      "\n"
     ]
    }
   ],
   "source": [
    "df.printSchema()\n"
   ]
  },
  {
   "cell_type": "code",
   "execution_count": 6,
   "id": "c9c8b9da",
   "metadata": {},
   "outputs": [],
   "source": [
    "# Step 3: Data Preparation for Classification\n",
    "# Define categorical, numerical, and boolean columns\n",
    "categorical_cols = [\"State\", \"Timezone\", \"Weather_Condition\", \"Sunrise_Sunset\", \"Season\"]\n",
    "numerical_cols = [\n",
    "    \"Start_Lat\", \"Start_Lng\", \"Distance\", \"Temperature\", \"Humidity\", \n",
    "    \"Pressure\", \"Visibility\", \"Wind_Speed\", \"Is_Complex_Road\", \n",
    "    \"Hour\", \"Day_of_Week\", \"Month\", \"Year\", \"DayOfWeek\", \"Duration\", \n",
    "    \"Is_Weekend\"\n",
    "]\n",
    "boolean_cols = [\n",
    "    \"Amenity\", \"Bump\", \"Crossing\", \"Give_Way\", \"Junction\", \n",
    "    \"No_Exit\", \"Railway\", \"Roundabout\", \"Station\", \"Stop\", \n",
    "    \"Traffic_Calming\", \"Traffic_Signal\"\n",
    "]\n",
    "\n",
    "# Convert boolean columns to integers (0 or 1)\n",
    "for bool_col in boolean_cols:\n",
    "    df = df.withColumn(bool_col, col(bool_col).cast(\"integer\"))\n",
    "\n",
    "# Create stages for the pipeline\n",
    "stages = []\n",
    "\n",
    "# StringIndexer and OneHotEncoder for categorical columns\n",
    "for cat_col in categorical_cols:\n",
    "    indexer = StringIndexer(\n",
    "        inputCol=cat_col,\n",
    "        outputCol=f\"{cat_col}_Index\",\n",
    "        handleInvalid=\"keep\"\n",
    "    )\n",
    "    encoder = OneHotEncoder(\n",
    "        inputCols=[f\"{cat_col}_Index\"],\n",
    "        outputCols=[f\"{cat_col}_OHE\"]\n",
    "    )\n",
    "    stages += [indexer, encoder]\n",
    "\n",
    "# Combine numerical, boolean, and encoded categorical columns\n",
    "feature_cols = numerical_cols + boolean_cols + [f\"{cat_col}_OHE\" for cat_col in categorical_cols]\n",
    "\n",
    "# VectorAssembler to combine all features\n",
    "assembler = VectorAssembler(\n",
    "    inputCols=feature_cols,\n",
    "    outputCol=\"features\",\n",
    "    handleInvalid=\"skip\"\n",
    ")\n",
    "stages.append(assembler)\n",
    "\n",
    "# StringIndexer for the target variable (Severity)\n",
    "label_indexer = StringIndexer(\n",
    "    inputCol=\"Severity\",\n",
    "    outputCol=\"label\",\n",
    "    handleInvalid=\"keep\"\n",
    ")\n",
    "stages.append(label_indexer)\n",
    "\n",
    "# Create and fit the pipeline\n",
    "pipeline = Pipeline(stages=stages)\n",
    "pipeline_model = pipeline.fit(df)\n",
    "prepared_df = pipeline_model.transform(df)\n",
    "\n",
    "# Select only the features and label columns for modeling\n",
    "final_df = prepared_df.select(\"features\", \"label\")\n"
   ]
  },
  {
   "cell_type": "code",
   "execution_count": 17,
   "id": "e8d6a5bd",
   "metadata": {},
   "outputs": [
    {
     "name": "stdout",
     "output_type": "stream",
     "text": [
      "Accuracy: 0.7966703509506979\n",
      "Precision: 0.6346836480839083\n",
      "Recall: 0.7966703509506979\n",
      "F1 Score: 0.7065109609540438\n"
     ]
    }
   ],
   "source": [
    "\n",
    "from pyspark.ml.evaluation import MulticlassClassificationEvaluator, BinaryClassificationEvaluator\n",
    "\n",
    "from pyspark.ml.classification import RandomForestClassifier\n",
    "\n",
    "# Train a model (using RandomForestClassifier as an example)\n",
    "rf = RandomForestClassifier(featuresCol=\"features\", labelCol=\"label\")\n",
    "model = rf.fit(final_df)\n",
    "\n",
    "# Generate predictions\n",
    "predictions = model.transform(final_df)\n",
    "\n",
    "# Evaluation\n",
    "# Accuracy\n",
    "evaluator = MulticlassClassificationEvaluator(\n",
    "    labelCol=\"label\", \n",
    "    predictionCol=\"prediction\", \n",
    "    metricName=\"accuracy\"\n",
    ")\n",
    "accuracy = evaluator.evaluate(predictions)\n",
    "print(f\"Accuracy: {accuracy}\")\n",
    "\n",
    "# Precision\n",
    "precision_evaluator = MulticlassClassificationEvaluator(\n",
    "    labelCol=\"label\", \n",
    "    predictionCol=\"prediction\", \n",
    "    metricName=\"weightedPrecision\"\n",
    ")\n",
    "precision = precision_evaluator.evaluate(predictions)\n",
    "print(f\"Precision: {precision}\")\n",
    "\n",
    "# Recall\n",
    "recall_evaluator = MulticlassClassificationEvaluator(\n",
    "    labelCol=\"label\", \n",
    "    predictionCol=\"prediction\", \n",
    "    metricName=\"weightedRecall\"\n",
    ")\n",
    "recall = recall_evaluator.evaluate(predictions)\n",
    "print(f\"Recall: {recall}\")\n",
    "\n",
    "# F1 Score\n",
    "f1_evaluator = MulticlassClassificationEvaluator(\n",
    "    labelCol=\"label\", \n",
    "    predictionCol=\"prediction\", \n",
    "    metricName=\"f1\"\n",
    ")\n",
    "f1_score = f1_evaluator.evaluate(predictions)\n",
    "print(f\"F1 Score: {f1_score}\")\n"
   ]
  },
  {
   "cell_type": "code",
   "execution_count": 18,
   "id": "c6e637b0",
   "metadata": {},
   "outputs": [
    {
     "name": "stdout",
     "output_type": "stream",
     "text": [
      "Confusion Matrix:\n",
      "Row(label=2.0, prediction=0.0, count=204703)\n",
      "Row(label=1.0, prediction=0.0, count=1299328)\n",
      "Row(label=0.0, prediction=0.0, count=6156925)\n",
      "Row(label=3.0, prediction=0.0, count=67366)\n"
     ]
    }
   ],
   "source": [
    "class_metrics = predictions.groupBy(\"label\", \"prediction\").count().collect()\n",
    "print(\"Confusion Matrix:\")\n",
    "for row in class_metrics:\n",
    "    print(row)"
   ]
  },
  {
   "cell_type": "code",
   "execution_count": 19,
   "id": "2685472c",
   "metadata": {},
   "outputs": [
    {
     "data": {
      "image/png": "[encoded data removed]",
      "text/plain": [
       "<Figure size 1000x800 with 2 Axes>"
      ]
     },
     "metadata": {},
     "output_type": "display_data"
    }
   ],
   "source": [
    "import pandas as pd\n",
    "import matplotlib.pyplot as plt\n",
    "import seaborn as sns\n",
    "\n",
    "# Assuming you have a trained model and predictions DataFrame\n",
    "predictions = model.transform(final_df)\n",
    "\n",
    "# Collecting the predictions and actual values for further analysis\n",
    "class_metrics = predictions.groupBy(\"label\", \"prediction\").count().collect()\n",
    "\n",
    "# Convert to DataFrame\n",
    "confusion_matrix_data = [{\"label\": row[\"label\"], \"prediction\": row[\"prediction\"], \"count\": row[\"count\"]} for row in class_metrics]\n",
    "df = pd.DataFrame(confusion_matrix_data)\n",
    "\n",
    "# Pivot the DataFrame to create the confusion matrix\n",
    "conf_matrix = df.pivot(index=\"label\", columns=\"prediction\", values=\"count\").fillna(0)\n",
    "\n",
    "# Plot confusion matrix\n",
    "plt.figure(figsize=(10, 8))\n",
    "sns.heatmap(conf_matrix, annot=True, fmt=\".0f\", cmap=\"Blues\")\n",
    "plt.title(\"Confusion Matrix\")\n",
    "plt.xlabel(\"Predicted Label\")\n",
    "plt.ylabel(\"True Label\")\n",
    "plt.show()\n"
   ]
  },
  {
   "cell_type": "code",
   "execution_count": 16,
   "id": "7c8623e5",
   "metadata": {},
   "outputs": [
    {
     "name": "stdout",
     "output_type": "stream",
     "text": [
      "33 95\n",
      "Error: The lengths of feature_cols and feature_importances do not match.\n"
     ]
    }
   ],
   "source": [
    "import pandas as pd\n",
    "import matplotlib.pyplot as plt\n",
    "\n",
    "# Extract feature importances and convert to list\n",
    "feature_importances = model.featureImportances.toArray()\n",
    "print(len(feature_cols),len(feature_importances))\n",
    "# Ensure the lengths match\n",
    "if len(feature_cols) == len(feature_importances):\n",
    "    # Create a DataFrame for feature importances\n",
    "    feature_importance_df = pd.DataFrame({\n",
    "        \"Feature\": feature_cols,\n",
    "        \"Importance\": feature_importances\n",
    "    })\n",
    "\n",
    "    # Sort the DataFrame by importance\n",
    "    feature_importance_df = feature_importance_df.sort_values(by=\"Importance\", ascending=False)\n",
    "\n",
    "    # Plot feature importances\n",
    "    plt.figure(figsize=(12, 8))\n",
    "    plt.barh(feature_importance_df[\"Feature\"], feature_importance_df[\"Importance\"], color='skyblue')\n",
    "    plt.xlabel(\"Importance\")\n",
    "    plt.ylabel(\"Feature\")\n",
    "    plt.title(\"Feature Importances\")\n",
    "    plt.gca().invert_yaxis()\n",
    "    plt.show()\n",
    "else:\n",
    "    print(\"Error: The lengths of feature_cols and feature_importances do not match.\")\n"
   ]
  }
 ],
 "metadata": {
  "kernelspec": {
   "display_name": "Python 3",
   "language": "python",
   "name": "python3"
  },
  "language_info": {
   "codemirror_mode": {
    "name": "ipython",
    "version": 3
   },
   "file_extension": ".py",
   "mimetype": "text/x-python",
   "name": "python",
   "nbconvert_exporter": "python",
   "pygments_lexer": "ipython3",
   "version": "3.13.2"
  }
 },
 "nbformat": 4,
 "nbformat_minor": 5
}
