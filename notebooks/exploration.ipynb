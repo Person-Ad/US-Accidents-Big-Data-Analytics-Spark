{
    "cells": [
        {
            "cell_type": "code",
            "execution_count": null,
            "id": "ba77808d",
            "metadata": {},
            "outputs": [],
            "source": [
                "import sys\n",
                "from pathlib import Path\n",
                "\n",
                "sys.path.append(str(Path(\"..\").resolve()))\n",
                "\n",
                "from src.data_ingestion import *\n",
                "from src.data_preprocessing import *\n",
                "from src.feature_engineering import *\n",
                "from src.visualization import *"
            ]
        },
        {
            "cell_type": "code",
            "execution_count": 2,
            "id": "256eacb6",
            "metadata": {},
            "outputs": [
                {
                    "name": "stdout",
                    "output_type": "stream",
                    "text": [
                        "root\n",
                        " |-- ID: string (nullable = true)\n",
                        " |-- Source: string (nullable = true)\n",
                        " |-- Severity: integer (nullable = true)\n",
                        " |-- Start_Time: timestamp (nullable = true)\n",
                        " |-- End_Time: timestamp (nullable = true)\n",
                        " |-- Start_Lat: double (nullable = true)\n",
                        " |-- Start_Lng: double (nullable = true)\n",
                        " |-- End_Lat: double (nullable = true)\n",
                        " |-- End_Lng: double (nullable = true)\n",
                        " |-- Distance(mi): double (nullable = true)\n",
                        " |-- Description: string (nullable = true)\n",
                        " |-- Street: string (nullable = true)\n",
                        " |-- City: string (nullable = true)\n",
                        " |-- County: string (nullable = true)\n",
                        " |-- State: string (nullable = true)\n",
                        " |-- Zipcode: string (nullable = true)\n",
                        " |-- Country: string (nullable = true)\n",
                        " |-- Timezone: string (nullable = true)\n",
                        " |-- Airport_Code: string (nullable = true)\n",
                        " |-- Weather_Timestamp: timestamp (nullable = true)\n",
                        " |-- Temperature(F): double (nullable = true)\n",
                        " |-- Wind_Chill(F): double (nullable = true)\n",
                        " |-- Humidity(%): double (nullable = true)\n",
                        " |-- Pressure(in): double (nullable = true)\n",
                        " |-- Visibility(mi): double (nullable = true)\n",
                        " |-- Wind_Direction: string (nullable = true)\n",
                        " |-- Wind_Speed(mph): double (nullable = true)\n",
                        " |-- Precipitation(in): double (nullable = true)\n",
                        " |-- Weather_Condition: string (nullable = true)\n",
                        " |-- Amenity: boolean (nullable = true)\n",
                        " |-- Bump: boolean (nullable = true)\n",
                        " |-- Crossing: boolean (nullable = true)\n",
                        " |-- Give_Way: boolean (nullable = true)\n",
                        " |-- Junction: boolean (nullable = true)\n",
                        " |-- No_Exit: boolean (nullable = true)\n",
                        " |-- Railway: boolean (nullable = true)\n",
                        " |-- Roundabout: boolean (nullable = true)\n",
                        " |-- Station: boolean (nullable = true)\n",
                        " |-- Stop: boolean (nullable = true)\n",
                        " |-- Traffic_Calming: boolean (nullable = true)\n",
                        " |-- Traffic_Signal: boolean (nullable = true)\n",
                        " |-- Turning_Loop: boolean (nullable = true)\n",
                        " |-- Sunrise_Sunset: string (nullable = true)\n",
                        " |-- Civil_Twilight: string (nullable = true)\n",
                        " |-- Nautical_Twilight: string (nullable = true)\n",
                        " |-- Astronomical_Twilight: string (nullable = true)\n",
                        "\n"
                    ]
                }
            ],
            "source": [
                "spark = init_spark()\n",
                "df = load_data(spark)\n",
                "df.printSchema()"
            ]
        },
        {
            "cell_type": "code",
            "execution_count": 3,
            "id": "b623478a",
            "metadata": {},
            "outputs": [
                {
                    "name": "stdout",
                    "output_type": "stream",
                    "text": [
                        "Summary statistics for numeric columns:\n",
                        "+-------+--------+-------+------------------+-----------------+------------------+-----------------+------------------+------------------+--------------------+------------------+----------+---------+-------+------------------+-------+----------+------------+------------------+-----------------+------------------+------------------+-----------------+--------------+-----------------+--------------------+------------------+--------------+--------------+-----------------+---------------------+\n",
                        "|summary|      ID| Source|          Severity|        Start_Lat|         Start_Lng|          End_Lat|           End_Lng|      Distance(mi)|         Description|            Street|      City|   County|  State|           Zipcode|Country|  Timezone|Airport_Code|    Temperature(F)|    Wind_Chill(F)|       Humidity(%)|      Pressure(in)|   Visibility(mi)|Wind_Direction|  Wind_Speed(mph)|   Precipitation(in)| Weather_Condition|Sunrise_Sunset|Civil_Twilight|Nautical_Twilight|Astronomical_Twilight|\n",
                        "+-------+--------+-------+------------------+-----------------+------------------+-----------------+------------------+------------------+--------------------+------------------+----------+---------+-------+------------------+-------+----------+------------+------------------+-----------------+------------------+------------------+-----------------+--------------+-----------------+--------------------+------------------+--------------+--------------+-----------------+---------------------+\n",
                        "|  count| 7728394|7728394|           7728394|          7728394|           7728394|          4325632|           4325632|           7728394|             7728389|           7717525|   7728141|  7728394|7728394|           7726479|7728394|   7720586|     7705759|           7564541|          5729375|           7554250|           7587715|          7551296|       7553188|          7157161|             5524808|           7554935|       7705148|       7705148|          7705148|              7705148|\n",
                        "|   mean|    NULL|   NULL| 2.212384487643875|36.20119454946952|-94.70254538794683|36.26182889161967|-95.72557026006884|0.5618422831523706|  1096.6666666666667|59.833333333333336|      NULL|     NULL|   NULL| 56844.61091225678|   NULL|      NULL|        NULL| 61.66328580940991|58.25104839533092| 64.83104146672403|29.538985607656194|9.090376447963413|          NULL|7.685489595665597|0.008407209807109432|              NULL|          NULL|          NULL|             NULL|                 NULL|\n",
                        "| stddev|    NULL|   NULL|0.4875313339360398|5.076079113874013| 17.39175625334916|5.272904539384689| 18.10792763629359|1.7768106031970923|  171.95146900305244|113.85139982862685|      NULL|     NULL|   NULL|30960.037231397473|   NULL|      NULL|        NULL|19.013653291093142| 22.3898317496207|22.820967660113475|  1.00618980914562| 2.68831592141714|          NULL|5.424983437161068| 0.11022464885795538|              NULL|          NULL|          NULL|             NULL|                 NULL|\n",
                        "|    min|     A-1|Source1|                 1|          24.5548|       -124.623833|        24.566013|       -124.545748|               0.0| 1039 GOLDEN BEAR...|         1 1/2 Ave|Aaronsburg|Abbeville|     AL|             01001|     US|US/Central|        K01M|             -89.0|            -89.0|               1.0|               0.0|              0.0|          CALM|              0.0|                 0.0|      Blowing Dust|           Day|           Day|              Day|                  Day|\n",
                        "|    max|A-999999|Source3|                 4|        49.002201|        -67.113167|           49.075|-67.10924200000001|            441.75| VEHICLE CRASH I7...|  william Carey Dr|   Zwingle|  Ziebach|     WY|             99403|     US|US/Pacific|        KZZV|             207.0|            207.0|             100.0|             58.63|            140.0|          West|           1087.0|               36.47|Wintry Mix / Windy|         Night|         Night|            Night|                Night|\n",
                        "+-------+--------+-------+------------------+-----------------+------------------+-----------------+------------------+------------------+--------------------+------------------+----------+---------+-------+------------------+-------+----------+------------+------------------+-----------------+------------------+------------------+-----------------+--------------+-----------------+--------------------+------------------+--------------+--------------+-----------------+---------------------+\n",
                        "\n",
                        "Non-null value count per column:\n",
                        "+-------+-------+--------+----------+--------+---------+---------+-------+-------+------------+-----------+-------+-------+-------+-------+-------+-------+--------+------------+-----------------+--------------+-------------+-----------+------------+--------------+--------------+---------------+-----------------+-----------------+-------+-------+--------+--------+--------+-------+-------+----------+-------+-------+---------------+--------------+------------+--------------+--------------+-----------------+---------------------+\n",
                        "|     ID| Source|Severity|Start_Time|End_Time|Start_Lat|Start_Lng|End_Lat|End_Lng|Distance(mi)|Description| Street|   City| County|  State|Zipcode|Country|Timezone|Airport_Code|Weather_Timestamp|Temperature(F)|Wind_Chill(F)|Humidity(%)|Pressure(in)|Visibility(mi)|Wind_Direction|Wind_Speed(mph)|Precipitation(in)|Weather_Condition|Amenity|   Bump|Crossing|Give_Way|Junction|No_Exit|Railway|Roundabout|Station|   Stop|Traffic_Calming|Traffic_Signal|Turning_Loop|Sunrise_Sunset|Civil_Twilight|Nautical_Twilight|Astronomical_Twilight|\n",
                        "+-------+-------+--------+----------+--------+---------+---------+-------+-------+------------+-----------+-------+-------+-------+-------+-------+-------+--------+------------+-----------------+--------------+-------------+-----------+------------+--------------+--------------+---------------+-----------------+-----------------+-------+-------+--------+--------+--------+-------+-------+----------+-------+-------+---------------+--------------+------------+--------------+--------------+-----------------+---------------------+\n",
                        "|7728394|7728394| 7728394|   7728394| 7728394|  7728394|  7728394|4325632|4325632|     7728394|    7728389|7717525|7728141|7728394|7728394|7726479|7728394| 7720586|     7705759|          7608166|       7564541|      5729375|    7554250|     7587715|       7551296|       7553188|        7157161|          5524808|          7554935|7728394|7728394| 7728394| 7728394| 7728394|7728394|7728394|   7728394|7728394|7728394|        7728394|       7728394|     7728394|       7705148|       7705148|          7705148|              7705148|\n",
                        "+-------+-------+--------+----------+--------+---------+---------+-------+-------+------------+-----------+-------+-------+-------+-------+-------+-------+--------+------------+-----------------+--------------+-------------+-----------+------------+--------------+--------------+---------------+-----------------+-----------------+-------+-------+--------+--------+--------+-------+-------+----------+-------+-------+---------------+--------------+------------+--------------+--------------+-----------------+---------------------+\n",
                        "\n",
                        "Missing values count per column:\n",
                        "+---+------+--------+----------+--------+---------+---------+-------+-------+------------+-----------+------+----+------+-----+-------+-------+--------+------------+-----------------+--------------+-------------+-----------+------------+--------------+--------------+---------------+-----------------+-----------------+-------+----+--------+--------+--------+-------+-------+----------+-------+----+---------------+--------------+------------+--------------+--------------+-----------------+---------------------+\n",
                        "| ID|Source|Severity|Start_Time|End_Time|Start_Lat|Start_Lng|End_Lat|End_Lng|Distance(mi)|Description|Street|City|County|State|Zipcode|Country|Timezone|Airport_Code|Weather_Timestamp|Temperature(F)|Wind_Chill(F)|Humidity(%)|Pressure(in)|Visibility(mi)|Wind_Direction|Wind_Speed(mph)|Precipitation(in)|Weather_Condition|Amenity|Bump|Crossing|Give_Way|Junction|No_Exit|Railway|Roundabout|Station|Stop|Traffic_Calming|Traffic_Signal|Turning_Loop|Sunrise_Sunset|Civil_Twilight|Nautical_Twilight|Astronomical_Twilight|\n",
                        "+---+------+--------+----------+--------+---------+---------+-------+-------+------------+-----------+------+----+------+-----+-------+-------+--------+------------+-----------------+--------------+-------------+-----------+------------+--------------+--------------+---------------+-----------------+-----------------+-------+----+--------+--------+--------+-------+-------+----------+-------+----+---------------+--------------+------------+--------------+--------------+-----------------+---------------------+\n",
                        "|  0|     0|       0|         0|       0|        0|        0|3402762|3402762|           0|          5| 10869| 253|     0|    0|   1915|      0|    7808|       22635|           120228|        163853|      1999019|     174144|      140679|        177098|        175206|         571233|          2203586|           173459|      0|   0|       0|       0|       0|      0|      0|         0|      0|   0|              0|             0|           0|         23246|         23246|            23246|                23246|\n",
                        "+---+------+--------+----------+--------+---------+---------+-------+-------+------------+-----------+------+----+------+-----+-------+-------+--------+------------+-----------------+--------------+-------------+-----------+------------+--------------+--------------+---------------+-----------------+-----------------+-------+----+--------+--------+--------+-------+-------+----------+-------+----+---------------+--------------+------------+--------------+--------------+-----------------+---------------------+\n",
                        "\n",
                        "Percentage of missing values per column:\n",
                        "+---+------+--------+----------+--------+---------+---------+-----------------+-----------------+------------+--------------------+------------------+--------------------+------+-----+--------------------+-------+-------------------+------------------+------------------+------------------+-----------------+-----------------+-----------------+-----------------+------------------+-----------------+------------------+-----------------+-------+----+--------+--------+--------+-------+-------+----------+-------+----+---------------+--------------+------------+-------------------+-------------------+-------------------+---------------------+\n",
                        "| ID|Source|Severity|Start_Time|End_Time|Start_Lat|Start_Lng|          End_Lat|          End_Lng|Distance(mi)|         Description|            Street|                City|County|State|             Zipcode|Country|           Timezone|      Airport_Code| Weather_Timestamp|    Temperature(F)|    Wind_Chill(F)|      Humidity(%)|     Pressure(in)|   Visibility(mi)|    Wind_Direction|  Wind_Speed(mph)| Precipitation(in)|Weather_Condition|Amenity|Bump|Crossing|Give_Way|Junction|No_Exit|Railway|Roundabout|Station|Stop|Traffic_Calming|Traffic_Signal|Turning_Loop|     Sunrise_Sunset|     Civil_Twilight|  Nautical_Twilight|Astronomical_Twilight|\n",
                        "+---+------+--------+----------+--------+---------+---------+-----------------+-----------------+------------+--------------------+------------------+--------------------+------+-----+--------------------+-------+-------------------+------------------+------------------+------------------+-----------------+-----------------+-----------------+-----------------+------------------+-----------------+------------------+-----------------+-------+----+--------+--------+--------+-------+-------+----------+-------+----+---------------+--------------+------------+-------------------+-------------------+-------------------+---------------------+\n",
                        "|0.0|   0.0|     0.0|       0.0|     0.0|      0.0|      0.0|44.02935461106149|44.02935461106149|         0.0|6.469649451102002E-5|0.1406372397680553|0.003273642622257613|   0.0|  0.0|0.024778757397720667|    0.0|0.10103004582840884|0.2928810306513876|1.5556660284141828|2.1201429430228327|25.86590435218494|2.253301268025414|1.820287630263157|2.291523956982524|2.2670428034595544|7.391354529802699|28.512857910712107|2.244437848277404|    0.0| 0.0|     0.0|     0.0|     0.0|    0.0|    0.0|       0.0|    0.0| 0.0|            0.0|           0.0|         0.0|0.30078694228063424|0.30078694228063424|0.30078694228063424|  0.30078694228063424|\n",
                        "+---+------+--------+----------+--------+---------+---------+-----------------+-----------------+------------+--------------------+------------------+--------------------+------+-----+--------------------+-------+-------------------+------------------+------------------+------------------+-----------------+-----------------+-----------------+-----------------+------------------+-----------------+------------------+-----------------+-------+----+--------+--------+--------+-------+-------+----------+-------+----+---------------+--------------+------------+-------------------+-------------------+-------------------+---------------------+\n",
                        "\n"
                    ]
                },
                {
                    "data": {
                        "text/plain": [
                            "(DataFrame[summary: string, ID: string, Source: string, Severity: string, Start_Lat: string, Start_Lng: string, End_Lat: string, End_Lng: string, Distance(mi): string, Description: string, Street: string, City: string, County: string, State: string, Zipcode: string, Country: string, Timezone: string, Airport_Code: string, Temperature(F): string, Wind_Chill(F): string, Humidity(%): string, Pressure(in): string, Visibility(mi): string, Wind_Direction: string, Wind_Speed(mph): string, Precipitation(in): string, Weather_Condition: string, Sunrise_Sunset: string, Civil_Twilight: string, Nautical_Twilight: string, Astronomical_Twilight: string],\n",
                            " DataFrame[ID: bigint, Source: bigint, Severity: bigint, Start_Time: bigint, End_Time: bigint, Start_Lat: bigint, Start_Lng: bigint, End_Lat: bigint, End_Lng: bigint, Distance(mi): bigint, Description: bigint, Street: bigint, City: bigint, County: bigint, State: bigint, Zipcode: bigint, Country: bigint, Timezone: bigint, Airport_Code: bigint, Weather_Timestamp: bigint, Temperature(F): bigint, Wind_Chill(F): bigint, Humidity(%): bigint, Pressure(in): bigint, Visibility(mi): bigint, Wind_Direction: bigint, Wind_Speed(mph): bigint, Precipitation(in): bigint, Weather_Condition: bigint, Amenity: bigint, Bump: bigint, Crossing: bigint, Give_Way: bigint, Junction: bigint, No_Exit: bigint, Railway: bigint, Roundabout: bigint, Station: bigint, Stop: bigint, Traffic_Calming: bigint, Traffic_Signal: bigint, Turning_Loop: bigint, Sunrise_Sunset: bigint, Civil_Twilight: bigint, Nautical_Twilight: bigint, Astronomical_Twilight: bigint],\n",
                            " DataFrame[ID: bigint, Source: bigint, Severity: bigint, Start_Time: bigint, End_Time: bigint, Start_Lat: bigint, Start_Lng: bigint, End_Lat: bigint, End_Lng: bigint, Distance(mi): bigint, Description: bigint, Street: bigint, City: bigint, County: bigint, State: bigint, Zipcode: bigint, Country: bigint, Timezone: bigint, Airport_Code: bigint, Weather_Timestamp: bigint, Temperature(F): bigint, Wind_Chill(F): bigint, Humidity(%): bigint, Pressure(in): bigint, Visibility(mi): bigint, Wind_Direction: bigint, Wind_Speed(mph): bigint, Precipitation(in): bigint, Weather_Condition: bigint, Amenity: bigint, Bump: bigint, Crossing: bigint, Give_Way: bigint, Junction: bigint, No_Exit: bigint, Railway: bigint, Roundabout: bigint, Station: bigint, Stop: bigint, Traffic_Calming: bigint, Traffic_Signal: bigint, Turning_Loop: bigint, Sunrise_Sunset: bigint, Civil_Twilight: bigint, Nautical_Twilight: bigint, Astronomical_Twilight: bigint],\n",
                            " DataFrame[ID: double, Source: double, Severity: double, Start_Time: double, End_Time: double, Start_Lat: double, Start_Lng: double, End_Lat: double, End_Lng: double, Distance(mi): double, Description: double, Street: double, City: double, County: double, State: double, Zipcode: double, Country: double, Timezone: double, Airport_Code: double, Weather_Timestamp: double, Temperature(F): double, Wind_Chill(F): double, Humidity(%): double, Pressure(in): double, Visibility(mi): double, Wind_Direction: double, Wind_Speed(mph): double, Precipitation(in): double, Weather_Condition: double, Amenity: double, Bump: double, Crossing: double, Give_Way: double, Junction: double, No_Exit: double, Railway: double, Roundabout: double, Station: double, Stop: double, Traffic_Calming: double, Traffic_Signal: double, Turning_Loop: double, Sunrise_Sunset: double, Civil_Twilight: double, Nautical_Twilight: double, Astronomical_Twilight: double])"
                        ]
                    },
                    "execution_count": 3,
                    "metadata": {},
                    "output_type": "execute_result"
                }
            ],
            "source": [
                "get_summary_statistics(df)"
            ]
        },
        {
            "cell_type": "markdown",
            "id": "c7c811fc",
            "metadata": {},
            "source": [
                "## Cleaning Data"
            ]
        },
        {
            "cell_type": "code",
            "execution_count": 4,
            "id": "3d2ff6df",
            "metadata": {},
            "outputs": [],
            "source": [
                "df = preprocess_data(df)"
            ]
        },
        {
            "cell_type": "code",
            "execution_count": 5,
            "id": "31485e0d",
            "metadata": {},
            "outputs": [],
            "source": [
                "df = preprocess_features(df)"
            ]
        },
        {
            "cell_type": "code",
            "execution_count": 6,
            "id": "983d4f07",
            "metadata": {},
            "outputs": [
                {
                    "name": "stdout",
                    "output_type": "stream",
                    "text": [
                        "root\n",
                        " |-- Severity: integer (nullable = true)\n",
                        " |-- Start_Time: timestamp (nullable = true)\n",
                        " |-- End_Time: timestamp (nullable = true)\n",
                        " |-- Start_Lat: double (nullable = false)\n",
                        " |-- Start_Lng: double (nullable = false)\n",
                        " |-- Distance: double (nullable = false)\n",
                        " |-- State: string (nullable = false)\n",
                        " |-- Timezone: string (nullable = false)\n",
                        " |-- Temperature: double (nullable = true)\n",
                        " |-- Humidity: double (nullable = false)\n",
                        " |-- Pressure: double (nullable = false)\n",
                        " |-- Visibility: double (nullable = false)\n",
                        " |-- Wind_Speed: double (nullable = false)\n",
                        " |-- Weather_Condition: string (nullable = false)\n",
                        " |-- Amenity: boolean (nullable = true)\n",
                        " |-- Bump: boolean (nullable = true)\n",
                        " |-- Crossing: boolean (nullable = true)\n",
                        " |-- Give_Way: boolean (nullable = true)\n",
                        " |-- Junction: boolean (nullable = true)\n",
                        " |-- No_Exit: boolean (nullable = true)\n",
                        " |-- Railway: boolean (nullable = true)\n",
                        " |-- Roundabout: boolean (nullable = true)\n",
                        " |-- Station: boolean (nullable = true)\n",
                        " |-- Stop: boolean (nullable = true)\n",
                        " |-- Traffic_Calming: boolean (nullable = true)\n",
                        " |-- Traffic_Signal: boolean (nullable = true)\n",
                        " |-- Sunrise_Sunset: string (nullable = false)\n",
                        " |-- Is_Complex_Road: integer (nullable = false)\n",
                        " |-- Hour: integer (nullable = true)\n",
                        " |-- Day_of_Week: integer (nullable = true)\n",
                        " |-- Month: integer (nullable = true)\n",
                        " |-- Year: integer (nullable = true)\n",
                        " |-- Season: string (nullable = false)\n",
                        " |-- DayOfWeek: integer (nullable = true)\n",
                        " |-- Duration: double (nullable = true)\n",
                        " |-- Is_Weekend: integer (nullable = false)\n",
                        " |-- Is_Severe: integer (nullable = false)\n",
                        "\n"
                    ]
                }
            ],
            "source": [
                "df.printSchema()"
            ]
        },
        {
            "cell_type": "code",
            "execution_count": 7,
            "id": "c28a3ced",
            "metadata": {},
            "outputs": [
                {
                    "name": "stdout",
                    "output_type": "stream",
                    "text": [
                        "Summary statistics for numeric columns:\n",
                        "+-------+-------------------+-----------------+-----------------+------------------+-------+----------+------------------+------------------+------------------+-----------------+------------------+-----------------+--------------+-------------------+------------------+------------------+----------------+------------------+-------+-----------------+------------------+-------------------+-------------------+\n",
                        "|summary|           Severity|        Start_Lat|        Start_Lng|          Distance|  State|  Timezone|       Temperature|          Humidity|          Pressure|       Visibility|        Wind_Speed|Weather_Condition|Sunrise_Sunset|    Is_Complex_Road|              Hour|       Day_of_Week|           Month|              Year| Season|        DayOfWeek|          Duration|         Is_Weekend|          Is_Severe|\n",
                        "+-------+-------------------+-----------------+-----------------+------------------+-------+----------+------------------+------------------+------------------+-----------------+------------------+-----------------+--------------+-------------------+------------------+------------------+----------------+------------------+-------+-----------------+------------------+-------------------+-------------------+\n",
                        "|  count|            7728322|          7728322|          7728322|           7728322|7728322|   7728322|           7728322|           7728322|           7728322|          7728322|           7728322|          7728322|       7728322|            7728322|           7728322|           7728322|         7728322|           7728322|7728322|          7728322|           7728322|            7728322|            7728322|\n",
                        "|   mean| 2.2123834902324204|36.20121641667227|-94.7025219790829|0.9041979530526172|   NULL|      NULL|16.479299814595297| 64.83108852477113|29.538984246165775| 9.09037274945288|3.4348139788203276|             NULL|          NULL|0.18801921037969174| 12.32856718444185|2.0846569281145375|6.70634246347396|2019.9081139476332|   NULL|4.084656928114538| 444.4242066755659|0.15933859898694697|0.19461287974284716|\n",
                        "| stddev|0.48752956040547263|5.076086517394537|17.39176975172985|  2.85949272866753|   NULL|      NULL|10.449759939550383|22.562331908491043|0.9969936694119763|2.657342309444551| 2.274760277079613|             NULL|          NULL|0.39072753507046665|5.4648048440197226|1.7601789948218385|3.64126120039196|1.9146649118985835|   NULL|1.760178994821839| 13512.35545281802|  0.365991567105246| 0.3959024211369836|\n",
                        "|    min|                  1|          24.5548|      -124.623833|               0.0|     AL|US/Central|-67.22222222222223|               1.0|               0.0|              0.0|               0.0|           Cloudy|           Day|                  0|                 0|                -1|               1|              2016|   Fall|                1|1.2166666666666666|                  0|                  0|\n",
                        "|    max|                  4|        49.002201|       -67.113167|        710.925945|     WY|US/Pacific| 56.00000000000001|             100.0|             58.63|            140.0|          95.66656|          Tornado|         Night|                  1|                23|                 5|              12|              2023| Winter|                7|         2812939.0|                  1|                  1|\n",
                        "+-------+-------------------+-----------------+-----------------+------------------+-------+----------+------------------+------------------+------------------+-----------------+------------------+-----------------+--------------+-------------------+------------------+------------------+----------------+------------------+-------+-----------------+------------------+-------------------+-------------------+\n",
                        "\n",
                        "Non-null value count per column:\n",
                        "+--------+----------+--------+---------+---------+--------+-------+--------+-----------+--------+--------+----------+----------+-----------------+-------+-------+--------+--------+--------+-------+-------+----------+-------+-------+---------------+--------------+--------------+---------------+-------+-----------+-------+-------+-------+---------+--------+----------+---------+\n",
                        "|Severity|Start_Time|End_Time|Start_Lat|Start_Lng|Distance|  State|Timezone|Temperature|Humidity|Pressure|Visibility|Wind_Speed|Weather_Condition|Amenity|   Bump|Crossing|Give_Way|Junction|No_Exit|Railway|Roundabout|Station|   Stop|Traffic_Calming|Traffic_Signal|Sunrise_Sunset|Is_Complex_Road|   Hour|Day_of_Week|  Month|   Year| Season|DayOfWeek|Duration|Is_Weekend|Is_Severe|\n",
                        "+--------+----------+--------+---------+---------+--------+-------+--------+-----------+--------+--------+----------+----------+-----------------+-------+-------+--------+--------+--------+-------+-------+----------+-------+-------+---------------+--------------+--------------+---------------+-------+-----------+-------+-------+-------+---------+--------+----------+---------+\n",
                        "| 7728322|   7728322| 7728322|  7728322|  7728322| 7728322|7728322| 7728322|    7728322| 7728322| 7728322|   7728322|   7728322|          7728322|7728322|7728322| 7728322| 7728322| 7728322|7728322|7728322|   7728322|7728322|7728322|        7728322|       7728322|       7728322|        7728322|7728322|    7728322|7728322|7728322|7728322|  7728322| 7728322|   7728322|  7728322|\n",
                        "+--------+----------+--------+---------+---------+--------+-------+--------+-----------+--------+--------+----------+----------+-----------------+-------+-------+--------+--------+--------+-------+-------+----------+-------+-------+---------------+--------------+--------------+---------------+-------+-----------+-------+-------+-------+---------+--------+----------+---------+\n",
                        "\n",
                        "Missing values count per column:\n",
                        "+--------+----------+--------+---------+---------+--------+-----+--------+-----------+--------+--------+----------+----------+-----------------+-------+----+--------+--------+--------+-------+-------+----------+-------+----+---------------+--------------+--------------+---------------+----+-----------+-----+----+------+---------+--------+----------+---------+\n",
                        "|Severity|Start_Time|End_Time|Start_Lat|Start_Lng|Distance|State|Timezone|Temperature|Humidity|Pressure|Visibility|Wind_Speed|Weather_Condition|Amenity|Bump|Crossing|Give_Way|Junction|No_Exit|Railway|Roundabout|Station|Stop|Traffic_Calming|Traffic_Signal|Sunrise_Sunset|Is_Complex_Road|Hour|Day_of_Week|Month|Year|Season|DayOfWeek|Duration|Is_Weekend|Is_Severe|\n",
                        "+--------+----------+--------+---------+---------+--------+-----+--------+-----------+--------+--------+----------+----------+-----------------+-------+----+--------+--------+--------+-------+-------+----------+-------+----+---------------+--------------+--------------+---------------+----+-----------+-----+----+------+---------+--------+----------+---------+\n",
                        "|       0|         0|       0|        0|        0|       0|    0|       0|          0|       0|       0|         0|         0|                0|      0|   0|       0|       0|       0|      0|      0|         0|      0|   0|              0|             0|             0|              0|   0|          0|    0|   0|     0|        0|       0|         0|        0|\n",
                        "+--------+----------+--------+---------+---------+--------+-----+--------+-----------+--------+--------+----------+----------+-----------------+-------+----+--------+--------+--------+-------+-------+----------+-------+----+---------------+--------------+--------------+---------------+----+-----------+-----+----+------+---------+--------+----------+---------+\n",
                        "\n",
                        "Percentage of missing values per column:\n",
                        "+--------+----------+--------+---------+---------+--------+-----+--------+-----------+--------+--------+----------+----------+-----------------+-------+----+--------+--------+--------+-------+-------+----------+-------+----+---------------+--------------+--------------+---------------+----+-----------+-----+----+------+---------+--------+----------+---------+\n",
                        "|Severity|Start_Time|End_Time|Start_Lat|Start_Lng|Distance|State|Timezone|Temperature|Humidity|Pressure|Visibility|Wind_Speed|Weather_Condition|Amenity|Bump|Crossing|Give_Way|Junction|No_Exit|Railway|Roundabout|Station|Stop|Traffic_Calming|Traffic_Signal|Sunrise_Sunset|Is_Complex_Road|Hour|Day_of_Week|Month|Year|Season|DayOfWeek|Duration|Is_Weekend|Is_Severe|\n",
                        "+--------+----------+--------+---------+---------+--------+-----+--------+-----------+--------+--------+----------+----------+-----------------+-------+----+--------+--------+--------+-------+-------+----------+-------+----+---------------+--------------+--------------+---------------+----+-----------+-----+----+------+---------+--------+----------+---------+\n",
                        "|     0.0|       0.0|     0.0|      0.0|      0.0|     0.0|  0.0|     0.0|        0.0|     0.0|     0.0|       0.0|       0.0|              0.0|    0.0| 0.0|     0.0|     0.0|     0.0|    0.0|    0.0|       0.0|    0.0| 0.0|            0.0|           0.0|           0.0|            0.0| 0.0|        0.0|  0.0| 0.0|   0.0|      0.0|     0.0|       0.0|      0.0|\n",
                        "+--------+----------+--------+---------+---------+--------+-----+--------+-----------+--------+--------+----------+----------+-----------------+-------+----+--------+--------+--------+-------+-------+----------+-------+----+---------------+--------------+--------------+---------------+----+-----------+-----+----+------+---------+--------+----------+---------+\n",
                        "\n"
                    ]
                },
                {
                    "data": {
                        "text/plain": [
                            "(DataFrame[summary: string, Severity: string, Start_Lat: string, Start_Lng: string, Distance: string, State: string, Timezone: string, Temperature: string, Humidity: string, Pressure: string, Visibility: string, Wind_Speed: string, Weather_Condition: string, Sunrise_Sunset: string, Is_Complex_Road: string, Hour: string, Day_of_Week: string, Month: string, Year: string, Season: string, DayOfWeek: string, Duration: string, Is_Weekend: string, Is_Severe: string],\n",
                            " DataFrame[Severity: bigint, Start_Time: bigint, End_Time: bigint, Start_Lat: bigint, Start_Lng: bigint, Distance: bigint, State: bigint, Timezone: bigint, Temperature: bigint, Humidity: bigint, Pressure: bigint, Visibility: bigint, Wind_Speed: bigint, Weather_Condition: bigint, Amenity: bigint, Bump: bigint, Crossing: bigint, Give_Way: bigint, Junction: bigint, No_Exit: bigint, Railway: bigint, Roundabout: bigint, Station: bigint, Stop: bigint, Traffic_Calming: bigint, Traffic_Signal: bigint, Sunrise_Sunset: bigint, Is_Complex_Road: bigint, Hour: bigint, Day_of_Week: bigint, Month: bigint, Year: bigint, Season: bigint, DayOfWeek: bigint, Duration: bigint, Is_Weekend: bigint, Is_Severe: bigint],\n",
                            " DataFrame[Severity: bigint, Start_Time: bigint, End_Time: bigint, Start_Lat: bigint, Start_Lng: bigint, Distance: bigint, State: bigint, Timezone: bigint, Temperature: bigint, Humidity: bigint, Pressure: bigint, Visibility: bigint, Wind_Speed: bigint, Weather_Condition: bigint, Amenity: bigint, Bump: bigint, Crossing: bigint, Give_Way: bigint, Junction: bigint, No_Exit: bigint, Railway: bigint, Roundabout: bigint, Station: bigint, Stop: bigint, Traffic_Calming: bigint, Traffic_Signal: bigint, Sunrise_Sunset: bigint, Is_Complex_Road: bigint, Hour: bigint, Day_of_Week: bigint, Month: bigint, Year: bigint, Season: bigint, DayOfWeek: bigint, Duration: bigint, Is_Weekend: bigint, Is_Severe: bigint],\n",
                            " DataFrame[Severity: double, Start_Time: double, End_Time: double, Start_Lat: double, Start_Lng: double, Distance: double, State: double, Timezone: double, Temperature: double, Humidity: double, Pressure: double, Visibility: double, Wind_Speed: double, Weather_Condition: double, Amenity: double, Bump: double, Crossing: double, Give_Way: double, Junction: double, No_Exit: double, Railway: double, Roundabout: double, Station: double, Stop: double, Traffic_Calming: double, Traffic_Signal: double, Sunrise_Sunset: double, Is_Complex_Road: double, Hour: double, Day_of_Week: double, Month: double, Year: double, Season: double, DayOfWeek: double, Duration: double, Is_Weekend: double, Is_Severe: double])"
                        ]
                    },
                    "execution_count": 7,
                    "metadata": {},
                    "output_type": "execute_result"
                }
            ],
            "source": [
                "get_summary_statistics(df)"
            ]
        }
    ],
    "metadata": {
        "kernelspec": {
            "display_name": "Python 3",
            "language": "python",
            "name": "python3"
        },
        "language_info": {
            "codemirror_mode": {
                "name": "ipython",
                "version": 3
            },
            "file_extension": ".py",
            "mimetype": "text/x-python",
            "name": "python",
            "nbconvert_exporter": "python",
            "pygments_lexer": "ipython3",
            "version": "3.13.2"
        }
    },
    "nbformat": 4,
    "nbformat_minor": 5
}
