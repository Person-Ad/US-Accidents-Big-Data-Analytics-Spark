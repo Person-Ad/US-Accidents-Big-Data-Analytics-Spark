{
 "cells": [
  {
   "cell_type": "code",
   "execution_count": null,
   "id": "ba77808d",
   "metadata": {},
   "outputs": [],
   "source": [
    "import sys\n",
    "from pathlib import Path\n",
    "\n",
    "sys.path.append(str(Path(\"..\").resolve()))\n",
    "\n",
    "from src.data_ingestion import *\n",
    "from src.data_preprocessing import *\n",
    "from src.descriptive_analytics import *\n",
    "\n",
    "from pyspark.sql import DataFrame\n",
    "from pyspark.sql.types import NumericType, StringType\n",
    "from pyspark.sql import functions as F\n",
    "\n",
    "import seaborn as sns\n",
    "\n",
    "import numpy as np\n",
    "\n",
    "from itertools import combinations\n",
    "\n",
    "from scipy import stats\n",
    "\n",
    "import matplotlib.pyplot as plt\n",
    "\n",
    "import pandas as pd\n",
    "\n"
   ]
  },
  {
   "cell_type": "code",
   "execution_count": 2,
   "id": "256eacb6",
   "metadata": {},
   "outputs": [
    {
     "name": "stdout",
     "output_type": "stream",
     "text": [
      "root\n",
      " |-- ID: string (nullable = true)\n",
      " |-- Source: string (nullable = true)\n",
      " |-- Severity: integer (nullable = true)\n",
      " |-- Start_Time: timestamp (nullable = true)\n",
      " |-- End_Time: timestamp (nullable = true)\n",
      " |-- Start_Lat: double (nullable = true)\n",
      " |-- Start_Lng: double (nullable = true)\n",
      " |-- End_Lat: double (nullable = true)\n",
      " |-- End_Lng: double (nullable = true)\n",
      " |-- Distance(mi): double (nullable = true)\n",
      " |-- Description: string (nullable = true)\n",
      " |-- Street: string (nullable = true)\n",
      " |-- City: string (nullable = true)\n",
      " |-- County: string (nullable = true)\n",
      " |-- State: string (nullable = true)\n",
      " |-- Zipcode: string (nullable = true)\n",
      " |-- Country: string (nullable = true)\n",
      " |-- Timezone: string (nullable = true)\n",
      " |-- Airport_Code: string (nullable = true)\n",
      " |-- Weather_Timestamp: timestamp (nullable = true)\n",
      " |-- Temperature(F): double (nullable = true)\n",
      " |-- Wind_Chill(F): double (nullable = true)\n",
      " |-- Humidity(%): double (nullable = true)\n",
      " |-- Pressure(in): double (nullable = true)\n",
      " |-- Visibility(mi): double (nullable = true)\n",
      " |-- Wind_Direction: string (nullable = true)\n",
      " |-- Wind_Speed(mph): double (nullable = true)\n",
      " |-- Precipitation(in): double (nullable = true)\n",
      " |-- Weather_Condition: string (nullable = true)\n",
      " |-- Amenity: boolean (nullable = true)\n",
      " |-- Bump: boolean (nullable = true)\n",
      " |-- Crossing: boolean (nullable = true)\n",
      " |-- Give_Way: boolean (nullable = true)\n",
      " |-- Junction: boolean (nullable = true)\n",
      " |-- No_Exit: boolean (nullable = true)\n",
      " |-- Railway: boolean (nullable = true)\n",
      " |-- Roundabout: boolean (nullable = true)\n",
      " |-- Station: boolean (nullable = true)\n",
      " |-- Stop: boolean (nullable = true)\n",
      " |-- Traffic_Calming: boolean (nullable = true)\n",
      " |-- Traffic_Signal: boolean (nullable = true)\n",
      " |-- Turning_Loop: boolean (nullable = true)\n",
      " |-- Sunrise_Sunset: string (nullable = true)\n",
      " |-- Civil_Twilight: string (nullable = true)\n",
      " |-- Nautical_Twilight: string (nullable = true)\n",
      " |-- Astronomical_Twilight: string (nullable = true)\n",
      "\n"
     ]
    }
   ],
   "source": [
    "spark = init_spark()\n",
    "df = load_data(spark)\n",
    "df.printSchema()\n",
    "# df.show(5)  "
   ]
  },
  {
   "cell_type": "code",
   "execution_count": 3,
   "id": "b7c63b30",
   "metadata": {},
   "outputs": [],
   "source": [
    "# missing_values = check_missing_values(df)"
   ]
  },
  {
   "cell_type": "markdown",
   "id": "c7c811fc",
   "metadata": {},
   "source": [
    "## Cleaning Data"
   ]
  },
  {
   "cell_type": "code",
   "execution_count": 4,
   "id": "3d2ff6df",
   "metadata": {},
   "outputs": [
    {
     "name": "stdout",
     "output_type": "stream",
     "text": [
      "Features with one unique value: ['Country', 'Turning_Loop']\n"
     ]
    }
   ],
   "source": [
    "df = preprocess_data(df)"
   ]
  },
  {
   "cell_type": "markdown",
   "id": "cb7a0313",
   "metadata": {},
   "source": [
    "## Feature Engineering \n"
   ]
  },
  {
   "cell_type": "code",
   "execution_count": 6,
   "id": "ce0499fa",
   "metadata": {},
   "outputs": [
    {
     "name": "stdout",
     "output_type": "stream",
     "text": [
      "root\n",
      " |-- Severity: integer (nullable = true)\n",
      " |-- Start_Time: timestamp (nullable = true)\n",
      " |-- End_Time: timestamp (nullable = true)\n",
      " |-- Start_Lat: double (nullable = false)\n",
      " |-- Start_Lng: double (nullable = false)\n",
      " |-- Distance(mi): double (nullable = false)\n",
      " |-- State: string (nullable = false)\n",
      " |-- Timezone: string (nullable = false)\n",
      " |-- Temperature(F): double (nullable = false)\n",
      " |-- Humidity(%): double (nullable = false)\n",
      " |-- Pressure(in): double (nullable = false)\n",
      " |-- Visibility(mi): double (nullable = false)\n",
      " |-- Wind_Speed(mph): double (nullable = false)\n",
      " |-- Weather_Condition: string (nullable = false)\n",
      " |-- Amenity: boolean (nullable = true)\n",
      " |-- Bump: boolean (nullable = true)\n",
      " |-- Crossing: boolean (nullable = true)\n",
      " |-- Give_Way: boolean (nullable = true)\n",
      " |-- Junction: boolean (nullable = true)\n",
      " |-- No_Exit: boolean (nullable = true)\n",
      " |-- Railway: boolean (nullable = true)\n",
      " |-- Roundabout: boolean (nullable = true)\n",
      " |-- Station: boolean (nullable = true)\n",
      " |-- Stop: boolean (nullable = true)\n",
      " |-- Traffic_Calming: boolean (nullable = true)\n",
      " |-- Traffic_Signal: boolean (nullable = true)\n",
      " |-- Sunrise_Sunset: string (nullable = false)\n",
      " |-- Temperature(C): double (nullable = true)\n",
      "\n"
     ]
    }
   ],
   "source": [
    "df.printSchema()"
   ]
  },
  {
   "cell_type": "code",
   "execution_count": null,
   "id": "52e22e46",
   "metadata": {},
   "outputs": [],
   "source": [
    "def convert_temp_to_celsius(df, temp_col=\"Temperature(F)\", new_col=\"Temperature(C)\"):\n",
    "    return df.withColumn(new_col, (F.col(temp_col) - 32) * 5 / 9)\n",
    "\n",
    "df = convert_temp_to_celsius(df)"
   ]
  },
  {
   "cell_type": "code",
   "execution_count": null,
   "id": "08a4becd",
   "metadata": {},
   "outputs": [],
   "source": [
    "df = df.withColumn(\n",
    "    \"Is_Complex_Road\",\n",
    "    F.when((F.col(\"Junction\").cast(\"int\") + F.col(\"Railway\").cast(\"int\") + F.col(\"Crossing\").cast(\"int\")) > 0, 1).otherwise(0)\n",
    ")"
   ]
  },
  {
   "cell_type": "code",
   "execution_count": null,
   "id": "97780162",
   "metadata": {},
   "outputs": [],
   "source": [
    "# Extract time-based features\n",
    "df = df.withColumn(\"Hour\", F.hour(\"Start_Time\"))\n",
    "df = df.withColumn(\"DayOfWeek\", F.dayofweek(\"Start_Time\"))  # Sunday = 1\n",
    "df = df.withColumn(\"Month\", F.month(\"Start_Time\"))\n",
    "\n",
    "# Calculate duration in minutes\n",
    "df = df.withColumn(\"Duration\", (F.unix_timestamp(\"End_Time\") - F.unix_timestamp(\"Start_Time\")) / 60)\n",
    "\n",
    "# Add Is_Weekend column: Saturday (7) or Sunday (1)\n",
    "df = df.withColumn(\"Is_Weekend\", F.when(F.col(\"DayOfWeek\").isin(1, 7), 1).otherwise(0))"
   ]
  }
 ],
 "metadata": {
  "kernelspec": {
   "display_name": "Python 3",
   "language": "python",
   "name": "python3"
  },
  "language_info": {
   "codemirror_mode": {
    "name": "ipython",
    "version": 3
   },
   "file_extension": ".py",
   "mimetype": "text/x-python",
   "name": "python",
   "nbconvert_exporter": "python",
   "pygments_lexer": "ipython3",
   "version": "3.13.2"
  }
 },
 "nbformat": 4,
 "nbformat_minor": 5
}
